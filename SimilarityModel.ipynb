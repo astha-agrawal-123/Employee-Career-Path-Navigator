{
 "cells": [
  {
   "cell_type": "code",
   "execution_count": 2,
   "id": "aacfea62",
   "metadata": {},
   "outputs": [
    {
     "name": "stdout",
     "output_type": "stream",
     "text": [
      "Enter the employee ID: EMP111\n",
      "Employee Details for Rajat Saxena (ID: EMP111):\n",
      "- Current Job: Key Account Manager\n",
      "- Current Soft Skills: Client Relationship Management ,Negotiation, Strategic Planning\n",
      "- Current Tech Stack: CRM, Account Management Software\n",
      "- Years of Experience: 7\n",
      "- Salary: 18,00,000\n",
      "--------------------------------------------------\n",
      "Top 3 Job Recommendations for Employee ID EMP111:\n",
      "- Job Role: IT Business Relationship Manager\n",
      "  Soft Skills Required: Stakeholder Management, Communication\n",
      "  Tech Stack Required: Relationship Management Tools\n",
      "  Salary: 18,50,000\n",
      "  Development Plan: Attend business relationship management and communication courses, focus on interpersonal and negotiation skills, obtain relevant certifications (e.g., Certified Business Relationship Manager), engage in networking within the business relationship management community, gain practical experience in managing IT business relationships, and set performance metrics for fostering positive relationships, aligning IT with business needs, and overall success in IT business relationship management.\n",
      "  Resources: https://www.coursera.org/learn/relationship-management-and-business-development: https://www.coursera.org/learn/relationship-management-and-business-development\n",
      "  Soft Skill Gap: {'Stakeholder Management', 'Communication'}\n",
      "  Tech Stack Gap: {'Relationship Management Tools'}\n",
      "  Similarity Score: 0.5103103630798288\n",
      "--------------------------------------------------\n",
      "- Job Role: Regional Sales Manager\n",
      "  Soft Skills Required: Strategic Planning, Leadership,Team Management, Decision Making\n",
      "  Tech Stack Required: CRM (e.g., Salesforce),Sales Analytics Tools\n",
      "  Salary: 16,87,500\n",
      "  Development Plan: Pursue relevant certifications such as Certified Sales Leadership, focus on leadership, strategic planning, and team management skills, engage in networking within the regional sales community, gain practical experience by overseeing sales teams in a specific region, and set performance metrics for regional revenue growth and achieving sales targets.\n",
      "  Resources: https://www.dukece.com/, https://www.insiderintelligence.com/, https://www.zippia.com/regional-sales-manager-jobs/skills/\n",
      "  Soft Skill Gap: {'Leadership', 'Decision Making', 'Team Management'}\n",
      "  Tech Stack Gap: {'CRM (e.g.', 'Salesforce)', 'Sales Analytics Tools'}\n",
      "  Similarity Score: 0.4166666666666668\n",
      "--------------------------------------------------\n",
      "- Job Role: Talent Management Director\n",
      "  Soft Skills Required: Talent Development, Succession Planning\n",
      "  Tech Stack Required: HRIS, Talent Management\n",
      "  Salary: 17,50,000\n",
      "  Development Plan: Obtain relevant certifications in talent management, attend talent management and communication courses, focus on talent development and succession planning skills, engage in networking within the talent management community, gain practical experience in leading talent management initiatives, and set performance metrics for talent development, succession planning effectiveness, and overall success as a Talent Management Director.\n",
      "  Resources: https://www.shrm.org/\n",
      "  Soft Skill Gap: {'Succession Planning', 'Talent Development'}\n",
      "  Tech Stack Gap: {'Talent Management', 'HRIS'}\n",
      "  Similarity Score: 0.28867513459481287\n",
      "--------------------------------------------------\n"
     ]
    }
   ],
   "source": [
    "import pandas as pd\n",
    "from sklearn.feature_extraction.text import CountVectorizer\n",
    "from sklearn.metrics.pairwise import cosine_similarity\n",
    "\n",
    "employees_df = pd.read_csv(\"employee_dataset2.csv\")\n",
    "jobs_df = pd.read_csv(\"job_dataset.csv\")\n",
    "\n",
    "employees_df[\"current_soft_skills\"] = employees_df[\"current_soft_skills\"].fillna(\"\")\n",
    "employees_df[\"current_tech_stack\"] = employees_df[\"current_tech_stack\"].fillna(\"\")\n",
    "employees_df[\"soft_tech_combined\"] = employees_df[\"current_soft_skills\"] + \" \" + employees_df[\"current_tech_stack\"]\n",
    "\n",
    "jobs_df[\"SOFT_SKILLS_REQUIRED\"] = jobs_df[\"SOFT_SKILLS_REQUIRED\"].fillna(\"\")\n",
    "jobs_df[\"TECHSTACK_REQUIRED\"] = jobs_df[\"TECHSTACK_REQUIRED\"].fillna(\"\")\n",
    "jobs_df[\"soft_tech_combined\"] = jobs_df[\"SOFT_SKILLS_REQUIRED\"] + \" \" + jobs_df[\"TECHSTACK_REQUIRED\"]\n",
    "\n",
    "vectorizer = CountVectorizer()\n",
    "\n",
    "employee_matrix = vectorizer.fit_transform(employees_df[\"soft_tech_combined\"].astype(str))\n",
    "job_matrix = vectorizer.transform(jobs_df[\"soft_tech_combined\"].astype(str))\n",
    "\n",
    "cosine_sim = cosine_similarity(employee_matrix, job_matrix)\n",
    "\n",
    "def get_top_recommendations(emp_id, num_recommendations=3):\n",
    "    if emp_id not in employees_df[\"emp_id\"].values:\n",
    "        print(f\"Employee with emp_id {emp_id} not found.\")\n",
    "        return []\n",
    "\n",
    "    emp_index = employees_df[employees_df[\"emp_id\"] == emp_id].index[0]\n",
    "\n",
    "    emp_scores = cosine_sim[emp_index]\n",
    "\n",
    "    job_indices_scores = list(enumerate(emp_scores))\n",
    "\n",
    "    job_indices_scores.sort(key=lambda x: x[1], reverse=True)\n",
    "\n",
    "    current_job_index = employees_df[employees_df[\"emp_id\"] == emp_id][\"current_job\"].index[0]\n",
    "    job_indices_scores = [(index, score) for index, score in job_indices_scores if index != current_job_index]\n",
    "\n",
    "    top_recommendations = []\n",
    "    for index, score in job_indices_scores:\n",
    "        job = jobs_df.iloc[index]\n",
    "\n",
    "        current_salary_str = str(employees_df.iloc[emp_index][\"salary\"]).replace(\",\", \"\")\n",
    "        job_salary_str = str(job[\"SALARY\"]).replace(\",\", \"\")\n",
    "\n",
    "        if current_salary_str and job_salary_str:\n",
    "            current_salary = float(current_salary_str)\n",
    "            job_salary = float(job_salary_str)\n",
    "\n",
    "            salary_gap = abs(job_salary - current_salary)\n",
    "\n",
    "            if salary_gap <= 0.1 * current_salary and job_salary != current_salary:\n",
    "                top_recommendations.append((index, score))\n",
    "\n",
    "            if len(top_recommendations) == num_recommendations:\n",
    "                break\n",
    "\n",
    "    return top_recommendations\n",
    "\n",
    "def recommend_jobs_for_employee(emp_id):\n",
    "\n",
    "    if emp_id not in employees_df[\"emp_id\"].values:\n",
    "        print(f\"Employee with emp_id {emp_id} not found.\")\n",
    "        return\n",
    "    employee_details = employees_df[employees_df[\"emp_id\"] == emp_id].iloc[0]\n",
    "\n",
    "    print(f\"Employee Details for {employee_details['employee_name']} (ID: {employee_details['emp_id']}):\")\n",
    "    print(f\"- Current Job: {employee_details['current_job']}\")\n",
    "    print(f\"- Current Soft Skills: {employee_details['current_soft_skills']}\")\n",
    "    print(f\"- Current Tech Stack: {employee_details['current_tech_stack']}\")\n",
    "    print(f\"- Years of Experience: {employee_details['years_of_experience']}\")\n",
    "    print(f\"- Salary: {employee_details['salary']}\")\n",
    "    print(\"-\" * 50)\n",
    "    \n",
    "    top_recommendations = get_top_recommendations(emp_id)\n",
    "    \n",
    "    if top_recommendations:\n",
    "        print(f\"Top 3 Job Recommendations for Employee ID {emp_id}:\")\n",
    "        for index, score in top_recommendations:\n",
    "            job = jobs_df.iloc[index]\n",
    "\n",
    "            recommended_soft_skills = set(map(str.strip, job['SOFT_SKILLS_REQUIRED'].split(',')))\n",
    "            recommended_tech_stack = set(map(str.strip, job['TECHSTACK_REQUIRED'].split(',')))\n",
    "\n",
    "            current_soft_skills = set(map(str.strip, employee_details['current_soft_skills'].split(',')))\n",
    "            current_tech_stack = set(map(str.strip, employee_details['current_tech_stack'].split(',')))\n",
    "\n",
    "            soft_skill_gap = recommended_soft_skills - current_soft_skills\n",
    "            tech_stack_gap = recommended_tech_stack - current_tech_stack\n",
    "\n",
    "            print(f\"- Job Role: {job['JOB_ROLE']}\")\n",
    "            print(f\"  Soft Skills Required: {job['SOFT_SKILLS_REQUIRED']}\")\n",
    "            print(f\"  Tech Stack Required: {job['TECHSTACK_REQUIRED']}\")\n",
    "            print(f\"  Salary: {job['SALARY']}\")\n",
    "            print(f\"  Development Plan: {job['DEVELOPMENT_PLAN']}\")\n",
    "            print(f\"  Resources: {job['RESOURCES']}\")\n",
    "            print(f\"  Soft Skill Gap: {soft_skill_gap}\")\n",
    "            print(f\"  Tech Stack Gap: {tech_stack_gap}\")\n",
    "            print(f\"  Similarity Score: {score}\")\n",
    "            print(\"-\" * 50)\n",
    "    else:\n",
    "        print(\"No recommendations available.\")\n",
    "        \n",
    "def recommend_jobs_for_all_employees(output_csv_path):\n",
    "    result_df = pd.DataFrame(columns=[\"emp_id\", \"similarity_score_1\", \"similarity_score_2\", \"similarity_score_3\"])\n",
    "\n",
    "    for emp_id in employees_df[\"emp_id\"]:\n",
    "        top_recommendations = get_top_recommendations(emp_id)\n",
    "\n",
    "        similarity_scores = [score for _, score in top_recommendations[:3]]\n",
    "\n",
    "        result_df.loc[result_df.shape[0]] = {\n",
    "            \"emp_id\": emp_id,\n",
    "            \"similarity_score_1\": similarity_scores[0] if len(similarity_scores) >= 1 else None,\n",
    "            \"similarity_score_2\": similarity_scores[1] if len(similarity_scores) >= 2 else None,\n",
    "            \"similarity_score_3\": similarity_scores[2] if len(similarity_scores) >= 3 else None,\n",
    "        }\n",
    "\n",
    "    result_df.to_csv(output_csv_path, index=False)\n",
    "    \n",
    "emp_id = input(\"Enter the employee ID: \")\n",
    "recommend_jobs_for_employee(emp_id)\n",
    "recommend_jobs_for_all_employees(\"recommendations_output.csv\")   "
   ]
  },
  {
   "cell_type": "markdown",
   "id": "62dccfe1",
   "metadata": {},
   "source": [
    "# Histogram Plot "
   ]
  },
  {
   "cell_type": "code",
   "execution_count": 3,
   "id": "01e493b3",
   "metadata": {},
   "outputs": [
    {
     "data": {
      "image/png": "[encoded data removed]",
      "text/plain": [
       "<Figure size 1000x600 with 1 Axes>"
      ]
     },
     "metadata": {},
     "output_type": "display_data"
    }
   ],
   "source": [
    "import pandas as pd\n",
    "import matplotlib.pyplot as plt\n",
    "\n",
    "recommendations_df = pd.read_csv(\"recommendations_output.csv\")\n",
    "similarity_scores = recommendations_df[[\"similarity_score_1\", \"similarity_score_2\", \"similarity_score_3\"]].values.flatten()\n",
    "\n",
    "plt.figure(figsize=(10, 6))\n",
    "plt.hist(similarity_scores, bins=20, color='skyblue', edgecolor='black')\n",
    "plt.title('Distribution of Similarity Scores')\n",
    "plt.xlabel('Similarity Score')\n",
    "plt.ylabel('Frequency')\n",
    "plt.grid(axis='y', alpha=0.75)\n",
    "plt.show()"
   ]
  },
  {
   "cell_type": "markdown",
   "id": "9a513d04",
   "metadata": {},
   "source": [
    "# Summary Statistics"
   ]
  },
  {
   "cell_type": "code",
   "execution_count": 4,
   "id": "b1505bde",
   "metadata": {},
   "outputs": [
    {
     "name": "stdout",
     "output_type": "stream",
     "text": [
      "Mean: 0.27402551629362276\n",
      "Median: 0.2519763153394848\n",
      "Standard Deviation: 0.15587564788380137\n"
     ]
    }
   ],
   "source": [
    "import pandas as pd\n",
    "import numpy as np\n",
    "from scipy.stats import mode\n",
    "\n",
    "recommendations_df = pd.read_csv(\"recommendations_output.csv\")\n",
    "\n",
    "similarity_scores = recommendations_df[[\"similarity_score_1\", \"similarity_score_2\", \"similarity_score_3\"]].values.flatten()\n",
    "\n",
    "similarity_scores = similarity_scores[~pd.isna(similarity_scores)]\n",
    "\n",
    "mean_score = np.mean(similarity_scores)\n",
    "median_score = np.median(similarity_scores)\n",
    "\n",
    "std_dev = np.std(similarity_scores)\n",
    "\n",
    "print(f\"Mean: {mean_score}\")\n",
    "print(f\"Median: {median_score}\")\n",
    "print(f\"Standard Deviation: {std_dev}\")"
   ]
  },
  {
   "cell_type": "markdown",
   "id": "a20f641b",
   "metadata": {},
   "source": [
    "# Percentiles"
   ]
  },
  {
   "cell_type": "code",
   "execution_count": 5,
   "id": "1cf6caa1",
   "metadata": {},
   "outputs": [
    {
     "name": "stdout",
     "output_type": "stream",
     "text": [
      "25th percentile: 0.1490711984999859\n",
      "50th percentile: 0.2519763153394848\n",
      "75th percentile: 0.3698001308168194\n"
     ]
    }
   ],
   "source": [
    "import pandas as pd\n",
    "import numpy as np\n",
    "\n",
    "recommendations_df = pd.read_csv(\"recommendations_output.csv\")\n",
    "\n",
    "similarity_scores = recommendations_df[[\"similarity_score_1\", \"similarity_score_2\", \"similarity_score_3\"]].values.flatten()\n",
    "\n",
    "percentiles = [25, 50, 75]\n",
    "\n",
    "percentile_values = np.percentile(similarity_scores, percentiles)\n",
    "\n",
    "for p, value in zip(percentiles, percentile_values):\n",
    "    print(f\"{p}th percentile: {value}\")"
   ]
  },
  {
   "cell_type": "markdown",
   "id": "9962ea8c",
   "metadata": {},
   "source": [
    "# Percentage Below Threshold"
   ]
  },
  {
   "cell_type": "code",
   "execution_count": 6,
   "id": "e9153cc0",
   "metadata": {},
   "outputs": [
    {
     "name": "stdout",
     "output_type": "stream",
     "text": [
      "Percentage of similarity scores below or equal to 0.3698001308168194: 75.08%\n"
     ]
    }
   ],
   "source": [
    "import pandas as pd\n",
    "recommendations_df = pd.read_csv(\"recommendations_output.csv\")\n",
    "similarity_scores = recommendations_df[[\"similarity_score_1\", \"similarity_score_2\", \"similarity_score_3\"]].values.flatten()\n",
    "threshold = 0.3698001308168194\n",
    "percentage_below_threshold = (similarity_scores <= threshold).mean() * 100\n",
    "print(f\"Percentage of similarity scores below or equal to {threshold}: {percentage_below_threshold:.2f}%\")"
   ]
  },
  {
   "cell_type": "markdown",
   "id": "512aa652",
   "metadata": {},
   "source": [
    "# Bar Plot for Threshold Comparison"
   ]
  },
  {
   "cell_type": "code",
   "execution_count": 7,
   "id": "c0afd322",
   "metadata": {},
   "outputs": [
    {
     "data": {
      "image/png": "[encoded data removed]",
      "text/plain": [
       "<Figure size 800x600 with 1 Axes>"
      ]
     },
     "metadata": {},
     "output_type": "display_data"
    }
   ],
   "source": [
    "above_threshold = (similarity_scores > threshold).sum()\n",
    "below_threshold = (similarity_scores <= threshold).sum()\n",
    "\n",
    "plt.figure(figsize=(8, 6))\n",
    "plt.bar(['Above Threshold', 'Below or Equal to Threshold'], [above_threshold, below_threshold], color=['lightcoral', 'skyblue'])\n",
    "plt.title('Comparison of Similarity Scores to Threshold')\n",
    "plt.ylabel('Count')\n",
    "plt.show()"
   ]
  },
  {
   "cell_type": "code",
   "execution_count": null,
   "id": "c529175d",
   "metadata": {},
   "outputs": [],
   "source": []
  },
  {
   "cell_type": "code",
   "execution_count": null,
   "id": "a254a2a8",
   "metadata": {},
   "outputs": [],
   "source": []
  }
 ],
 "metadata": {
  "kernelspec": {
   "display_name": "Python 3 (ipykernel)",
   "language": "python",
   "name": "python3"
  },
  "language_info": {
   "codemirror_mode": {
    "name": "ipython",
    "version": 3
   },
   "file_extension": ".py",
   "mimetype": "text/x-python",
   "name": "python",
   "nbconvert_exporter": "python",
   "pygments_lexer": "ipython3",
   "version": "3.10.7"
  }
 },
 "nbformat": 4,
 "nbformat_minor": 5
}
